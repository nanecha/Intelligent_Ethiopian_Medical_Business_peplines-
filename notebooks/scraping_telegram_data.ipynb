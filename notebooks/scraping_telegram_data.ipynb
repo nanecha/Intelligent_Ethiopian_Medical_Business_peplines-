{
 "cells": [
  {
   "cell_type": "markdown",
   "id": "572eb33d",
   "metadata": {},
   "source": [
    "# Task 1 - Data Scraping and Collection (Extract & Load)\n"
   ]
  },
  {
   "cell_type": "code",
   "execution_count": null,
   "id": "0bee30bc",
   "metadata": {},
   "outputs": [],
   "source": []
  }
 ],
 "metadata": {
  "kernelspec": {
   "display_name": ".venv",
   "language": "python",
   "name": "python3"
  },
  "language_info": {
   "name": "python",
   "version": "3.12.0"
  }
 },
 "nbformat": 4,
 "nbformat_minor": 5
}
